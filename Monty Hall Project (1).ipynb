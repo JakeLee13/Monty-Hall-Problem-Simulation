{
 "cells": [
  {
   "cell_type": "markdown",
   "id": "22343771",
   "metadata": {},
   "source": [
    "# Monty Hall Problem Simulation\n",
    "---\n",
    "## Introduction\n",
    "The Monty Hall problem is a famous probability puzzle named after the host of the American television game show *Let's Make a Deal,* Monty Hall. It's a fun and classic thought experiment in probability. The problem is as follows:\n",
    "\n",
    "You are a contestant on a game show and presented with three doors. Behind one of the doors is a valuable prize, such as a car, while the other two doors conceal goats. Your goal is to select the door that hides the car and win the prize.\n",
    "\n",
    "Here's how the game unfolds:\n",
    "\n",
    "Initially, you choose one of the three doors, let's say Door 1.\n",
    "After you make your choice, the host, Monty Hall, who knows what is behind each door, opens one of the remaining two doors to reveal a goat. For example, if you chose Door 1, Monty might open Door 3 to reveal a goat.\n",
    "At this point, you are presented with a new decision: stick with your original choice (Door 1) or switch your choice to the other unopened door (Door 2).\n",
    "The question is: What should you do to maximize your chances of winning the car? Should you stick with your initial choice or switch doors?\n",
    "\n",
    "The surprising answer is that **you should always switch doors to maximize your chances of winning the car.** Switching doors gives you a 2/3 (66.67%) probability of winning, while sticking with your initial choice only gives you a 1/3 (33.33%) chance.\n",
    "\n",
    "To confirm our probabilites, lets simulate the game and repeat it 10,000 times:"
   ]
  },
  {
   "cell_type": "code",
   "execution_count": 1,
   "id": "4b9054dc",
   "metadata": {},
   "outputs": [
    {
     "name": "stdout",
     "output_type": "stream",
     "text": [
      "Switching doors win probability: 0.6659\n",
      "Sticking with initial choice win probability: 0.3416\n"
     ]
    }
   ],
   "source": [
    "import random\n",
    "\n",
    "def simulate_monty_hall(switch):\n",
    "    doors = ['goat', 'goat', 'car']\n",
    "    random.shuffle(doors)  # Randomly arrange the doors\n",
    "\n",
    "    # Randomly choose a door\n",
    "    choice = random.randint(0, 2)\n",
    "\n",
    "    # Host reveals a goat\n",
    "    revealed = [i for i in range(3) if i != choice and doors[i] == 'goat']\n",
    "    reveal = random.choice(revealed)\n",
    "\n",
    "    if switch:\n",
    "        # Switch to the other unopened door\n",
    "        new_choice = [i for i in range(3) if i != choice and i != reveal][0]\n",
    "        final_choice = new_choice\n",
    "    else:\n",
    "        # Stick with the initial choice\n",
    "        final_choice = choice\n",
    "\n",
    "    # Determine the outcome\n",
    "    outcome = doors[final_choice]\n",
    "    return outcome == 'car'\n",
    "\n",
    "# Perform simulations\n",
    "num_simulations = 10000\n",
    "switch_wins = 0\n",
    "stick_wins = 0\n",
    "\n",
    "for _ in range(num_simulations):\n",
    "    switch_wins += simulate_monty_hall(True)\n",
    "    stick_wins += simulate_monty_hall(False)\n",
    "\n",
    "# Calculate probabilities\n",
    "switch_win_prob = switch_wins / num_simulations\n",
    "stick_win_prob = stick_wins / num_simulations\n",
    "\n",
    "# Print results\n",
    "print(\"Switching doors win probability:\", switch_win_prob)\n",
    "print(\"Sticking with initial choice win probability:\", stick_win_prob)\n"
   ]
  },
  {
   "cell_type": "markdown",
   "id": "25efea68",
   "metadata": {},
   "source": [
    "In this code, the `simulate_monty_hall` function takes a switch argument indicating whether you want to switch doors (`True`) or stick with the initial choice (`False`). It randomly shuffles the doors, simulates the host's reveal of a goat, and determines the final choice based on the specified strategy.\n",
    "\n",
    "The code then performs a specified number of simulations (`num_simulations`) and keeps track of the number of wins for switching doors and sticking with the initial choice. Finally, it calculates the probabilities by dividing the wins by the total number of simulations and prints the results.\n",
    "\n",
    "This confirms our probabilities, but why? Lets first define and gain intuition around variable change. Then we'll showcase variable change through a 100 door simulation to highlight its impact."
   ]
  },
  {
   "cell_type": "markdown",
   "id": "e1856da3",
   "metadata": {},
   "source": [
    "## Variable Change"
   ]
  },
  {
   "cell_type": "markdown",
   "id": "5434eec7",
   "metadata": {},
   "source": [
    "Variable change refers to the transformation or modification of variables that affect the probabilities of different events or outcomes. It involves updating or adjusting the probabilities based on new information or conditions.\n",
    "\n",
    "In the Monty Hall problem, the variable change occurs when the host reveals a goat behind one of the unchosen doors. **This new information allows you to update the probabilities associated with the remaining doors**. \n",
    "\n",
    "By revealing a goat, the host effectively eliminates one of the incorrect choices. To highlight the impact of variable change, let's simulate the problem again, only this time with 100 doors, 99 goats and 1 car:"
   ]
  },
  {
   "cell_type": "code",
   "execution_count": 2,
   "id": "bf143503",
   "metadata": {},
   "outputs": [
    {
     "name": "stdout",
     "output_type": "stream",
     "text": [
      "Switching doors win probability: 0.9887\n",
      "Sticking with initial choice win probability: 0.0105\n"
     ]
    }
   ],
   "source": [
    "import random\n",
    "\n",
    "def simulate_monty_hall(num_doors, switch):\n",
    "    doors = ['goat'] * (num_doors - 1) + ['car']\n",
    "    random.shuffle(doors)  # Randomly arrange the doors\n",
    "\n",
    "    # Randomly choose a door\n",
    "    choice = random.randint(0, num_doors - 1)\n",
    "\n",
    "    # Monty opens all other doors except the chosen door and one with a car\n",
    "    revealed = [i for i in range(num_doors) if i != choice and doors[i] == 'goat']\n",
    "\n",
    "    # If switching, choose the unopened door other than the initial choice\n",
    "    if switch:\n",
    "        unopened_doors = [i for i in range(num_doors) if i != choice and i not in revealed]\n",
    "        if len(unopened_doors) == 0:\n",
    "            return False  # No unopened doors available, cannot switch\n",
    "        final_choice = random.choice(unopened_doors)\n",
    "    else:\n",
    "        final_choice = choice\n",
    "\n",
    "    # Determine the outcome\n",
    "    outcome = doors[final_choice]\n",
    "    return outcome == 'car'\n",
    "\n",
    "# Perform simulations\n",
    "num_simulations = 10000\n",
    "num_doors = 100\n",
    "switch_wins = 0\n",
    "stick_wins = 0\n",
    "\n",
    "for _ in range(num_simulations):\n",
    "    switch_wins += simulate_monty_hall(num_doors, True)\n",
    "    stick_wins += simulate_monty_hall(num_doors, False)\n",
    "\n",
    "# Calculate probabilities\n",
    "switch_win_prob = switch_wins / num_simulations\n",
    "stick_win_prob = stick_wins / num_simulations\n",
    "\n",
    "# Print results\n",
    "print(\"Switching doors win probability:\", switch_win_prob)\n",
    "print(\"Sticking with initial choice win probability:\", stick_win_prob)\n"
   ]
  },
  {
   "cell_type": "markdown",
   "id": "bba14e18",
   "metadata": {},
   "source": [
    "With 100 doors, if we change our pick, we win almost every time! Lets visualize the differences in probability from 100 doors to our original 3 door example."
   ]
  },
  {
   "cell_type": "markdown",
   "id": "486c6494",
   "metadata": {},
   "source": [
    "## Vizualization"
   ]
  },
  {
   "cell_type": "code",
   "execution_count": 3,
   "id": "e5bf912b",
   "metadata": {},
   "outputs": [
    {
     "data": {
      "image/png": "[encoded data removed]",
      "text/plain": [
       "<Figure size 1000x500 with 2 Axes>"
      ]
     },
     "metadata": {},
     "output_type": "display_data"
    }
   ],
   "source": [
    "import matplotlib.pyplot as plt\n",
    "\n",
    "def visualize_probabilities(num_doors, switch_win_prob, stick_win_prob):\n",
    "    labels = ['Switch', 'Stick']\n",
    "    probabilities = [switch_win_prob, stick_win_prob]\n",
    "\n",
    "    plt.style.use('default')  # Reset to default style\n",
    "    fig, ax = plt.subplots(1, 2, figsize=(10, 5))\n",
    "    ax[0].bar(labels, probabilities, color=['#008FD5', '#FC4F30'])\n",
    "    ax[0].set_ylabel('Win Probability')\n",
    "    ax[0].set_title('Monty Hall Problem - {} Doors'.format(num_doors))\n",
    "    ax[0].set_ylim([0, 1])  # Set y-axis range to 0 to 1\n",
    "    ax[0].spines['top'].set_visible(False)  # Hide top spine\n",
    "    ax[0].spines['right'].set_visible(False)  # Hide right spine\n",
    "    ax[0].xaxis.set_ticks_position('bottom')  # Show ticks only at the bottom\n",
    "\n",
    "    # Add the 3-door example\n",
    "    ax[1].bar(labels, [0.667, 0.333], color=['#008FD5', '#FC4F30'])\n",
    "    ax[1].set_ylabel('Win Probability')\n",
    "    ax[1].set_title('Monty Hall Problem - 3 Doors')\n",
    "    ax[1].set_ylim([0, 1])  # Set y-axis range to 0 to 1\n",
    "    ax[1].spines['top'].set_visible(False)  # Hide top spine\n",
    "    ax[1].spines['right'].set_visible(False)  # Hide right spine\n",
    "    ax[1].xaxis.set_ticks_position('bottom')  # Show ticks only at the bottom\n",
    "\n",
    "    plt.tight_layout()\n",
    "    plt.show()\n",
    "\n",
    "# Perform simulations - 100 doors\n",
    "num_simulations = 10000\n",
    "num_doors = 100\n",
    "switch_wins = 0\n",
    "stick_wins = 0\n",
    "\n",
    "for _ in range(num_simulations):\n",
    "    switch_wins += simulate_monty_hall(num_doors, True)\n",
    "    stick_wins += simulate_monty_hall(num_doors, False)\n",
    "\n",
    "# Calculate probabilities - 100 doors\n",
    "switch_win_prob_100 = switch_wins / num_simulations\n",
    "stick_win_prob_100 = stick_wins / num_simulations\n",
    "\n",
    "# Perform simulations - 3 doors\n",
    "num_simulations = 10000\n",
    "num_doors = 3\n",
    "switch_wins = 0\n",
    "stick_wins = 0\n",
    "\n",
    "for _ in range(num_simulations):\n",
    "    switch_wins += simulate_monty_hall(num_doors, True)\n",
    "    stick_wins += simulate_monty_hall(num_doors, False)\n",
    "\n",
    "# Calculate probabilities - 3 doors\n",
    "switch_win_prob_3 = switch_wins / num_simulations\n",
    "stick_win_prob_3 = stick_wins / num_simulations\n",
    "\n",
    "# Visualize probabilities\n",
    "visualize_probabilities(num_doors=100, switch_win_prob=switch_win_prob_100, stick_win_prob=stick_win_prob_100)\n"
   ]
  },
  {
   "cell_type": "markdown",
   "id": "4f6c4345",
   "metadata": {},
   "source": [
    "## Conclusion"
   ]
  },
  {
   "cell_type": "markdown",
   "id": "19195889",
   "metadata": {},
   "source": [
    "The correct intuition underlying this problem is that of **concentration**. \n",
    "\n",
    "In the 100 door game, when monty opens 98 doors, revealing 98 goats, that 98/100 probability essentially gets concentrated into the remaining available door. By this intuition its clear that you should switch because the probaility of the car being in the 98/100 was just concentrated into only 1 door. The results of that concentrated outcome is shown above left.\n",
    "\n",
    "In the original 3 door game, the same intution applies. The 2/3 probability that the car is in one of the 2 remaining unpicked doors is concentrated into just one door when monty opens his door. This results in a free additional 1/3 probability when you switch doors.\n",
    "\n",
    "Always account for variable change and note the concentration of probabilites. \n",
    "\n",
    "Hopefully now its clear why you should always switch your pick. Thanks for reading!\n",
    "-Jake"
   ]
  },
  {
   "cell_type": "code",
   "execution_count": null,
   "id": "291acf3e",
   "metadata": {},
   "outputs": [],
   "source": []
  }
 ],
 "metadata": {
  "kernelspec": {
   "display_name": "Python 3 (ipykernel)",
   "language": "python",
   "name": "python3"
  },
  "language_info": {
   "codemirror_mode": {
    "name": "ipython",
    "version": 3
   },
   "file_extension": ".py",
   "mimetype": "text/x-python",
   "name": "python",
   "nbconvert_exporter": "python",
   "pygments_lexer": "ipython3",
   "version": "3.10.9"
  }
 },
 "nbformat": 4,
 "nbformat_minor": 5
}
